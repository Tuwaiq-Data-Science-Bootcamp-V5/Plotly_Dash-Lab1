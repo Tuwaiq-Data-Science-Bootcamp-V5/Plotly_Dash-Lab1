{
 "cells": [
  {
   "cell_type": "markdown",
   "metadata": {},
   "source": [
    "# Q0: import dash standard libraries"
   ]
  },
  {
   "cell_type": "code",
   "execution_count": 1,
   "metadata": {},
   "outputs": [],
   "source": [
    "from dash import Dash, dcc, html, Input, Output\n",
    "from jupyter_dash import JupyterDash"
   ]
  },
  {
   "cell_type": "markdown",
   "metadata": {},
   "source": [
    "# Q1: Make dash that prints \"Data Science\""
   ]
  },
  {
   "cell_type": "code",
   "execution_count": 3,
   "metadata": {},
   "outputs": [
    {
     "data": {
      "text/html": [
       "\n",
       "        <iframe\n",
       "            width=\"100%\"\n",
       "            height=\"650\"\n",
       "            src=\"http://127.0.0.1:8050/\"\n",
       "            frameborder=\"0\"\n",
       "            allowfullscreen\n",
       "            \n",
       "        ></iframe>\n",
       "        "
      ],
      "text/plain": [
       "<IPython.lib.display.IFrame at 0x259733f60d0>"
      ]
     },
     "metadata": {},
     "output_type": "display_data"
    }
   ],
   "source": [
    "app = dash.Dash()\n",
    "\n",
    "app.layout = html.H1('Data Science')\n",
    "\n",
    "app.run_server()"
   ]
  },
  {
   "cell_type": "markdown",
   "metadata": {},
   "source": [
    "# Q2: Make dash that takes name input and outpt \"Welcome to Data Science dashboard {name}\""
   ]
  },
  {
   "cell_type": "code",
   "execution_count": null,
   "metadata": {},
   "outputs": [],
   "source": [
    "app = dash.Dash()\n",
    "\n",
    "app.layout = html.Div([\n",
    "    dcc.Input(id = 'name-input', type='text', placeholder= 'Enter your name'),\n",
    "    html.Button('Submit', id='submit-button', n_clicks=0),\n",
    "    html.H1(id = 'output-container')\n",
    "])"
   ]
  },
  {
   "cell_type": "code",
   "execution_count": null,
   "metadata": {},
   "outputs": [],
   "source": [
    "@app.callback(\n",
    "    Output('output-container','children'),\n",
    "    Input('submit-button','n_clicks'),\n",
    "    State('name-input','value')\n",
    ")\n",
    "\n",
    "def update_out(n_clicks, name):\n",
    "    if n_clicks == 0:\n",
    "        return ''\n",
    "    elif name is None or name == '':\n",
    "        return \"Welcome to Data Science dashboard!\"\n",
    "    else:\n",
    "        return f\"Welcome to Data Science dashboard, {name}\"\n",
    "    \n",
    "app.run_server()\n"
   ]
  },
  {
   "cell_type": "markdown",
   "metadata": {},
   "source": [
    "# Q3: Make Plotly-Dash that takes two inputs (numbers) and output 3 numbers x, y , z= x+y\n",
    "- hint: use html.Div, dcc.Input(type='number')"
   ]
  },
  {
   "cell_type": "code",
   "execution_count": null,
   "metadata": {},
   "outputs": [],
   "source": [
    "app = dash.Dash()\n",
    "\n",
    "app.layout = html.Div([\n",
    "    dcc.Input(id = 'num_input-1', type='number', placeholder= 'Enter your first number'),\n",
    "    dcc.Input(id = 'num_input-2', type='number', placeholder= 'Enter your second number'),\n",
    "    html.Button('Submit', id='submit-button', n_clicks=0),\n",
    "    html.H2(id = 'output-container')\n",
    "])"
   ]
  },
  {
   "cell_type": "code",
   "execution_count": null,
   "metadata": {},
   "outputs": [],
   "source": [
    "@app.callback(\n",
    "    Output('output-container','children'),\n",
    "    Input('submit-button','n_clicks'),\n",
    "    State('num_input-1','value'),\n",
    "    State('num_input-2','value')\n",
    ")\n",
    "\n",
    "def update_out(n_clicks, num1, num2):\n",
    "    if n_clicks == 0:\n",
    "        return ''\n",
    "    else:\n",
    "        result = num1 + num2\n",
    "        return f\"{num1} ,{num2} ,{result} = {result}\"\n",
    "app.run_server(debug=True)"
   ]
  },
  {
   "cell_type": "markdown",
   "metadata": {},
   "source": [
    "# Q4.1: Make JubyterDash with Rangeslider from 1-15 with 6 option"
   ]
  },
  {
   "cell_type": "code",
   "execution_count": null,
   "metadata": {},
   "outputs": [],
   "source": [
    "app = dash.Dash()\n",
    "\n",
    "app.layout = html.Div([\n",
    "    dcc.RangeSlider(1,15,3, id='rangeSlider-id'),\n",
    "    html.Div(id='output-container')\n",
    "])\n",
    "@app.callback(\n",
    "    Output('output-container','children'),\n",
    "    Input('rangeSlider-id','value'),\n",
    ")\n",
    "\n",
    "def update_out(value):\n",
    "    return f'You have selected {value}'\n",
    "app.run_server(debug=True)\n"
   ]
  },
  {
   "cell_type": "markdown",
   "metadata": {},
   "source": [
    "# Q4.2: add to the previous dash: Label, set default value on rangeslider as 7-10"
   ]
  },
  {
   "cell_type": "code",
   "execution_count": null,
   "metadata": {},
   "outputs": [],
   "source": [
    "app = dash.Dash()\n",
    "\n",
    "app.layout = html.Div([\n",
    "    html.H1('My Range Slider'),\n",
    "    dcc.RangeSlider(1,15,3, value=[7,10], id='rangeSlider-id'),\n",
    "    html.Div(id='output-container')\n",
    "])\n",
    "@app.callback(\n",
    "    Output('output-container','children'),\n",
    "    Input('rangeSlider-id','value'),\n",
    ")\n",
    "\n",
    "def update_out(value):\n",
    "    return f'You have selected {value}'\n",
    "app.run_server(debug=True)\n"
   ]
  },
  {
   "cell_type": "markdown",
   "metadata": {},
   "source": [
    "# Q5: Make 3 different Dcc types (Dropdown - Checkbox...) in one dash"
   ]
  },
  {
   "cell_type": "code",
   "execution_count": null,
   "metadata": {},
   "outputs": [],
   "source": [
    "app = dash.Dash()\n",
    "\n",
    "app.layout = html.Div([\n",
    "    dcc.Dropdown(['A','B','C'], id='dropdown-id'),\n",
    "    html.Div(id='output-container'),\n",
    "    dcc.Checklist(['K','Y','T'], inline=True),\n",
    "    dcc.RadioItems(['P','O','R'])\n",
    "])\n",
    "@app.callback(\n",
    "    Output('output-container','children'),\n",
    "    Input('dropdown-id','value'),\n",
    ")\n",
    "\n",
    "def update_out(value):\n",
    "    return f'You have selected {value}'\n",
    "app.run_server(debug=True)"
   ]
  },
  {
   "cell_type": "markdown",
   "metadata": {},
   "source": [
    "# Q6: Make Plotly chart, then add it to a plotly_dash"
   ]
  },
  {
   "cell_type": "code",
   "execution_count": null,
   "metadata": {},
   "outputs": [],
   "source": [
    "import plotly.express as px\n",
    "import pandas as pd "
   ]
  },
  {
   "cell_type": "code",
   "execution_count": null,
   "metadata": {},
   "outputs": [],
   "source": [
    "df = pd.read_csv('titanic passenger list.csv')"
   ]
  },
  {
   "cell_type": "code",
   "execution_count": null,
   "metadata": {},
   "outputs": [],
   "source": [
    "class_counts = df['pclass'].value_counts().reset_index()\n",
    "class_counts.columns = ['Pclass', 'Passenger_Count']\n",
    "fig = px.bar(class_counts, x='Pclass', y='Passenger_Count', title='Passenger Count by Class')\n",
    "\n",
    "app = dash.Dash()\n",
    "app.layout = html.Div([\n",
    "    dcc.Graph(id='passenger-class-chart', figure=fig)\n",
    "])\n",
    "\n",
    "app.run_server(debug=True)"
   ]
  },
  {
   "cell_type": "markdown",
   "metadata": {},
   "source": [
    "# Q7: From our data make plotly-dash with suitble chart, and Dropdown.\n",
    "\n",
    "- Dropdown should contain at least 3 options, each one represents different column.\n",
    "- Add label to dropdown.\n",
    "- The chart data should change depending on the selected dropdown option."
   ]
  },
  {
   "cell_type": "code",
   "execution_count": null,
   "metadata": {},
   "outputs": [],
   "source": [
    "import pandas as pd\n",
    "df = pd.read_csv(\"titanic passenger list.csv\")"
   ]
  },
  {
   "cell_type": "code",
   "execution_count": null,
   "metadata": {},
   "outputs": [],
   "source": [
    "app = dash.Dash()\n",
    "\n",
    "app.layout = html.Div([\n",
    "    html.H1(\"Titanic Passenger Data Analysis\"),\n",
    "    dcc.Dropdown(\n",
    "        id='dropdown-column',\n",
    "        options=[\n",
    "            {'label': 'Passenger Class (Pclass)', 'value': 'pclass'},\n",
    "            {'label': 'Survived', 'value': 'survived'},\n",
    "            {'label': 'Sex', 'value': 'sex'},\n",
    "        ],\n",
    "        value='pclass',\n",
    "        style={'width': '50%'}\n",
    "    ),\n",
    "    dcc.Graph(id='chart')\n",
    "])"
   ]
  },
  {
   "cell_type": "code",
   "execution_count": null,
   "metadata": {},
   "outputs": [],
   "source": [
    "@app.callback(\n",
    "    Output('chart', 'figure'),\n",
    "    Input('dropdown-column', 'value')\n",
    ")\n",
    "def update_chart(selected_column):\n",
    "    value_counts = df[selected_column].value_counts().reset_index()\n",
    "    value_counts.columns = ['Value', 'Count']\n",
    "    \n",
    "    fig = px.bar(value_counts, x='Value', y='Count', title=f'{selected_column.capitalize()} Distribution')\n",
    "    return fig\n",
    "\n",
    "app.run_server(debug=True)"
   ]
  },
  {
   "cell_type": "markdown",
   "metadata": {},
   "source": [
    "# Q8: add 2 more charts to the prevoius Ploty-Dash"
   ]
  },
  {
   "cell_type": "code",
   "execution_count": null,
   "metadata": {},
   "outputs": [],
   "source": [
    "app = dash.Dash()\n",
    "\n",
    "app.layout = html.Div([\n",
    "    html.H1(\"Titanic Passenger Data\"),\n",
    "    dcc.Dropdown(\n",
    "        id='dropdown-column',\n",
    "        options=[\n",
    "            {'label': 'Passenger Class (Pclass)', 'value': 'pclass'},\n",
    "            {'label': 'Survived', 'value': 'survived'},\n",
    "            {'label': 'Sex', 'value': 'sex'},\n",
    "        ],\n",
    "        value='pclass',\n",
    "        style={'width': '50%'}\n",
    "    ),\n",
    "    dcc.Graph(id='chart-1'),\n",
    "    dcc.Graph(id='chart-2'),\n",
    "    dcc.Graph(id='chart-3'),\n",
    "])\n",
    "\n",
    "def create_bar_chart(selected_column):\n",
    "    value_counts = df[selected_column].value_counts().reset_index()\n",
    "    value_counts.columns = ['Value', 'Count']\n",
    "    fig = px.bar(value_counts, x='Value', y='Count', title=f'{selected_column.capitalize()} Distribution')\n",
    "    return fig\n",
    "\n",
    "@app.callback(\n",
    "    Output('chart-1', 'figure'),\n",
    "    Input('dropdown-column', 'value')\n",
    ")\n",
    "def update_chart_1(selected_column):\n",
    "    return create_bar_chart(selected_column)\n",
    "\n",
    "@app.callback(\n",
    "    Output('chart-2', 'figure'),\n",
    "    Input('dropdown-column', 'value')\n",
    ")\n",
    "def update_chart_2(selected_column):\n",
    "    return create_bar_chart(selected_column)\n",
    "\n",
    "@app.callback(\n",
    "    Output('chart-3', 'figure'),\n",
    "    Input('dropdown-column', 'value')\n",
    ")\n",
    "def update_chart_3(selected_column):\n",
    "    return create_bar_chart(selected_column)\n",
    "\n",
    "\n",
    "app.run_server(debug=True)\n"
   ]
  },
  {
   "cell_type": "markdown",
   "metadata": {},
   "source": [
    "# Q9: Search for \"Plotly Gallery\" and fetch for a graph and use it with our data.\n",
    "\n",
    "- Note: You need to put the resourse addres of fetched your grapth."
   ]
  },
  {
   "cell_type": "code",
   "execution_count": null,
   "metadata": {},
   "outputs": [],
   "source": [
    "# https://plotly.com/python/pie-charts/\n",
    "\n",
    "fig = px.pie(df, names='sex', hole=0.3, title='Passenger Gender Distribution')\n",
    "\n",
    "app = dash.Dash()\n",
    "app.layout = html.Div([\n",
    "    dcc.Graph(id='gender-pie-chart', figure=fig)\n",
    "])\n",
    "\n",
    "app.run_server(debug=True)"
   ]
  },
  {
   "cell_type": "markdown",
   "metadata": {},
   "source": [
    "# Challenge 1.1: Create Plotly dash with two charts depends on different columns of the data\n",
    "- First Chart : Pie\n",
    "- Secound Chart: is by your Choice ( Not Pie )"
   ]
  },
  {
   "cell_type": "code",
   "execution_count": null,
   "metadata": {},
   "outputs": [],
   "source": []
  },
  {
   "cell_type": "markdown",
   "metadata": {},
   "source": [
    "# Challenge 1.2: Make Hovering over a slice of the pie changes the data for the second chart depending on what the slice is."
   ]
  },
  {
   "cell_type": "code",
   "execution_count": null,
   "metadata": {},
   "outputs": [],
   "source": []
  }
 ],
 "metadata": {
  "kernelspec": {
   "display_name": "Python 3 (ipykernel)",
   "language": "python",
   "name": "python3"
  },
  "language_info": {
   "codemirror_mode": {
    "name": "ipython",
    "version": 3
   },
   "file_extension": ".py",
   "mimetype": "text/x-python",
   "name": "python",
   "nbconvert_exporter": "python",
   "pygments_lexer": "ipython3",
   "version": "3.11.5"
  }
 },
 "nbformat": 4,
 "nbformat_minor": 2
}
