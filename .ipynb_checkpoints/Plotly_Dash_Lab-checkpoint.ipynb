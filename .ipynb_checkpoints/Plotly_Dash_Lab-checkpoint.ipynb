{
 "cells": [
  {
   "cell_type": "markdown",
   "metadata": {},
   "source": [
    "# Q0: import dash standard libraries"
   ]
  },
  {
   "cell_type": "code",
   "execution_count": null,
   "metadata": {},
   "outputs": [],
   "source": [
    "from dash import Dash, dcc, html, Input, Output\n",
    "from jupyter_dash import JupyterDash\n",
    "import warnings\n",
    "import pandas as pd\n",
    "import plotly.express as px\n",
    "import dash_bootstrap_components as dbc\n",
    "#df = pd.read_csv(\"titanic passenger list.csv\")\n",
    "warnings.filterwarnings('ignore')"
   ]
  },
  {
   "cell_type": "markdown",
   "metadata": {},
   "source": [
    "# Q1: Make dash that prints \"Data Science\""
   ]
  },
  {
   "cell_type": "code",
   "execution_count": null,
   "metadata": {},
   "outputs": [],
   "source": [
    "import warnings\n",
    "warnings.filterwarnings('ignore')\n",
    "\n",
    "from jupyter_dash import JupyterDash\n",
    "from dash import html\n",
    "\n",
    "app = JupyterDash('Test')\n",
    "\n",
    "app.layout = html.Div([\n",
    "    html.H1('Data Science')\n",
    "])\n",
    "\n",
    "if __name__ == '__main__':\n",
    "    app.run_server()"
   ]
  },
  {
   "cell_type": "markdown",
   "metadata": {},
   "source": [
    "# Q2: Make dash that takes name input and outpt \"Welcome to Data Science dashboard {name}\""
   ]
  },
  {
   "cell_type": "code",
   "execution_count": null,
   "metadata": {},
   "outputs": [],
   "source": [
    "app = JupyterDash('Test')\n",
    "\n",
    "app.layout = html.Div([\n",
    "    dcc.Input(id='inputName'),\n",
    "    html.H1(id='output')\n",
    "])\n",
    "\n",
    "@app.callback(\n",
    "    Output('output','children'),\n",
    "    Input('inputName','value')\n",
    "     \n",
    ")\n",
    "\n",
    "def update_output(n):\n",
    "    name=str(n)\n",
    "    return f\"Welcome to Data Science dashboard {name}\"\n",
    "\n",
    "if __name__ == '__main__':\n",
    "    app.run_server()"
   ]
  },
  {
   "cell_type": "markdown",
   "metadata": {},
   "source": [
    "# Q3: Make Plotly-Dash that takes two inputs (numbers) and output 3 numbers x, y , z= x+y\n",
    "- hint: use html.Div, dcc.Input(type='number')"
   ]
  },
  {
   "cell_type": "code",
   "execution_count": null,
   "metadata": {},
   "outputs": [],
   "source": [
    "\n",
    "app = JupyterDash('test')\n",
    "app.layout=html.Div([\n",
    "    html.H1(\"Sum two Nums\"),\n",
    "    dcc.Input(id='i1',type='number',value=0),\n",
    "    dcc.Input(id='i2',type='number',value=0),\n",
    "    html.Div(id='output'),\n",
    "])\n",
    "@app.callback(\n",
    "    Output('output','children'),\n",
    "    [Input('i1','value'),\n",
    "     Input('i2','value')]\n",
    ")\n",
    "def update_output(FN,SN):\n",
    "    x=int(FN) \n",
    "    y=int(SN) \n",
    "    z=x+y\n",
    "    return f\"The sum of {x} with {y} is :{z}\"\n",
    "    \n",
    "if __name__ == '__main__':\n",
    "    app.run_server()"
   ]
  },
  {
   "cell_type": "markdown",
   "metadata": {},
   "source": [
    "# Q4.1: Make JubyterDash with Rangeslider from 1-15 with 6 option"
   ]
  },
  {
   "cell_type": "code",
   "execution_count": null,
   "metadata": {},
   "outputs": [],
   "source": [
    "# the part of Question \"6 option\" is not claer for me but i put the step to 3 to show only 6 dots \n",
    "app = JupyterDash('Q4.1')\n",
    "app.layout=html.Div([\n",
    "    html.H1('RangeSlider'),\n",
    "    dcc.RangeSlider(1,15,3,value=[1,7],id='rangeSlider1')\n",
    "])\n",
    "if __name__ == '__main__':\n",
    "    app.run_server()"
   ]
  },
  {
   "cell_type": "markdown",
   "metadata": {},
   "source": [
    "# Q4.2: add to the previous dash: Label, set default value on rangeslider as 7-10"
   ]
  },
  {
   "cell_type": "code",
   "execution_count": null,
   "metadata": {},
   "outputs": [],
   "source": [
    "app = JupyterDash('Q4.1')\n",
    "app.layout=html.Div([\n",
    "    html.H1('RangeSlider'),\n",
    "    html.Label('slider lable'),\n",
    "    dcc.RangeSlider(1,15,3,value=[7,10],id='rangeSlider1')\n",
    "])\n",
    "if __name__ == '__main__':\n",
    "    app.run_server()"
   ]
  },
  {
   "cell_type": "markdown",
   "metadata": {},
   "source": [
    "# Q5: Make 3 different Dcc types (Dropdown - Checkbox...) in one dash"
   ]
  },
  {
   "cell_type": "code",
   "execution_count": null,
   "metadata": {},
   "outputs": [],
   "source": [
    "app = JupyterDash('Q5')\n",
    "app.layout=html.Div([\n",
    "    html.Label('Drop Down'),\n",
    "    dcc.Dropdown(options=['AlKharj','Riyadh','Dilam']),\n",
    "    html.Br(),\n",
    "    html.Label('Check Box'),\n",
    "    dcc.Checklist(options=['GMC','Ford','Hyundai']),\n",
    "    html.Br(),\n",
    "    html.Label('Radio item'),\n",
    "    dcc.RadioItems(options=['Data Science','Ai','Cyber'])\n",
    "])\n",
    "\n",
    "if __name__ == '__main__':\n",
    "    app.run_server()"
   ]
  },
  {
   "cell_type": "markdown",
   "metadata": {},
   "source": [
    "# Q6: Make Plotly chart, then add it to a plotly_dash"
   ]
  },
  {
   "cell_type": "code",
   "execution_count": null,
   "metadata": {},
   "outputs": [],
   "source": [
    "import plotly.express as px"
   ]
  },
  {
   "cell_type": "code",
   "execution_count": null,
   "metadata": {},
   "outputs": [],
   "source": [
    "df = pd.read_csv(\"titanic passenger list.csv\")\n",
    "f = px.bar(data_frame=df, x='embarked', y='survived')\n",
    "f.show()"
   ]
  },
  {
   "cell_type": "code",
   "execution_count": null,
   "metadata": {},
   "outputs": [],
   "source": [
    "app = JupyterDash(\n",
    "    __name__,\n",
    "    external_stylesheets = [dbc.themes.LUX]\n",
    ")\n",
    "\n",
    "app.layout = dbc.Container([\n",
    "    dbc.Row([\n",
    "        dbc.Col([\n",
    "            dcc.Graph(id='myPlot', figure=f)\n",
    "        ], width=15)\n",
    "    ])\n",
    "])\n",
    "\n",
    "if __name__ == '__main__':\n",
    "    app.run_server()"
   ]
  },
  {
   "cell_type": "markdown",
   "metadata": {},
   "source": [
    "# Q7: From our data make plotly-dash with suitble chart, and Dropdown.\n",
    "\n",
    "- Dropdown should contain at least 3 options, each one represents different column.\n",
    "- Add label to dropdown.\n",
    "- The chart data should change depending on the selected dropdown option."
   ]
  },
  {
   "cell_type": "code",
   "execution_count": null,
   "metadata": {},
   "outputs": [],
   "source": [
    "df = pd.read_csv(\"titanic passenger list.csv\")\n",
    "df=df[df['embarked']=='S']"
   ]
  },
  {
   "cell_type": "code",
   "execution_count": null,
   "metadata": {},
   "outputs": [],
   "source": [
    "app = JupyterDash(\n",
    "    __name__,\n",
    "    external_stylesheets = [dbc.themes.LUX]\n",
    ")\n",
    "\n",
    "app.layout = html.Div([\n",
    "    html.H1(\"Hello Q7\"),\n",
    "    dcc.Dropdown(\n",
    "        id='dropDown',\n",
    "        options=[{'label':'male' , 'value':'male'},\n",
    "                 {'label':'female' , 'value':'female'}]\n",
    "    ),\n",
    "\n",
    "    #garph\n",
    "    dcc.Graph(id='dccGraph')\n",
    "])\n",
    "\n",
    "@app.callback(\n",
    "    Output('dccGraph', 'figure'),\n",
    "    Input('dropDown','value')\n",
    ")\n",
    "\n",
    "def update_graph(sel):\n",
    "\n",
    "    f_df = df[df['sex']==sel ]\n",
    "\n",
    "    figg =  px.line(f_df, x='sex', y='survived')\n",
    "\n",
    "    return figg\n",
    "\n",
    "if __name__ == '__main__':\n",
    "    app.run_server()"
   ]
  },
  {
   "cell_type": "markdown",
   "metadata": {},
   "source": [
    "# Q8: add 2 more charts to the prevoius Ploty-Dash"
   ]
  },
  {
   "cell_type": "code",
   "execution_count": null,
   "metadata": {},
   "outputs": [],
   "source": [
    "df = pd.read_csv(\"titanic passenger list.csv\")\n",
    "\n",
    "fig2 = px.pie(\n",
    "    df, values='survived', names='sex', template='simple_white'\n",
    ")\n",
    "\n",
    "fig3 = px.scatter(\n",
    "    df, x='home.dest', y='age', hover_name='survived',\n",
    "    template='simple_white', width=1200, height=600\n",
    ")\n"
   ]
  },
  {
   "cell_type": "code",
   "execution_count": null,
   "metadata": {},
   "outputs": [],
   "source": [
    "app = JupyterDash(\n",
    "    __name__,\n",
    "    external_stylesheets = [dbc.themes.LUX]\n",
    ")\n",
    "\n",
    "app.layout = html.Div(children = [\n",
    "    \n",
    "    html.Br([]),\n",
    "    html.H1(\"hello Q8\"),\n",
    "    \n",
    "    #dropdown\n",
    "    dcc.Dropdown(\n",
    "        id='dropDown',\n",
    "        options=[{'label':'male' , 'value':'male'},\n",
    "                 {'label':'female' , 'value':'female'}]\n",
    "    ),\n",
    "    \n",
    "    #garph\n",
    "    dcc.Graph(id='dccGraph',figure=None),\n",
    "\n",
    "    dbc.Row([\n",
    "        dbc.Col([\n",
    "            dcc.Graph(id='myPlot', figure=fig2)\n",
    "        ], width=6),\n",
    "        \n",
    "        dbc.Col([\n",
    "            dcc.Graph(id='myPlot', figure=fig3)\n",
    "        ], width=4)\n",
    "    ]),\n",
    "\n",
    "])\n",
    "\n",
    "@app.callback(\n",
    "    Output('dccGraph', 'figure'),\n",
    "    Input('dropDown','value')\n",
    ")\n",
    "\n",
    "def update_graph(s):\n",
    "    f_df = df[df['sex']==s ]\n",
    "    figg =  px.line(f_df, x='sex', y='survived')\n",
    "    return figg\n",
    "\n",
    "if __name__ == '__main__':\n",
    "    app.run_server()"
   ]
  },
  {
   "cell_type": "markdown",
   "metadata": {},
   "source": [
    "# Q9: Search for \"Plotly Gallery\" and fetch for a graph and use it with our data.\n",
    "\n",
    "- Note: You need to put the resourse addres of fetched your grapth."
   ]
  },
  {
   "cell_type": "code",
   "execution_count": null,
   "metadata": {},
   "outputs": [],
   "source": [
    "df = pd.read_csv(\"titanic passenger list.csv\")\n",
    "fig12 = px.box(df, x=\"embarked\", y=\"age\")\n",
    "fig12.show()"
   ]
  },
  {
   "cell_type": "code",
   "execution_count": null,
   "metadata": {},
   "outputs": [],
   "source": [
    "app = JupyterDash(\n",
    "    __name__,\n",
    "    external_stylesheets = [dbc.themes.LUX]\n",
    ")\n",
    "\n",
    "app.layout = html.Div(children = [\n",
    "    \n",
    "    html.Br([]),\n",
    "    html.H1(\"Plotly Gallery\"),\n",
    "    \n",
    "    #garph\n",
    "    dbc.Row([\n",
    "        dbc.Col([\n",
    "            dcc.Graph(id='myPlot', figure=fig12)\n",
    "        ], width=12),\n",
    "    ]),\n",
    "\n",
    "])\n",
    "\n",
    "if __name__ == '__main__':\n",
    "    app.run_server()"
   ]
  },
  {
   "cell_type": "markdown",
   "metadata": {},
   "source": [
    "# Ref\n",
    "- https://plotly.com/python/box-plots/"
   ]
  },
  {
   "cell_type": "markdown",
   "metadata": {},
   "source": [
    "# Challenge 1.1: Create Plotly dash with two charts depends on different columns of the data\n",
    "- First Chart : Pie\n",
    "- Secound Chart: is by your Choice ( Not Pie )"
   ]
  },
  {
   "cell_type": "code",
   "execution_count": null,
   "metadata": {},
   "outputs": [],
   "source": []
  },
  {
   "cell_type": "markdown",
   "metadata": {},
   "source": [
    "# Challenge 1.2: Make Hovering over a slice of the pie changes the data for the second chart depending on what the slice is."
   ]
  },
  {
   "cell_type": "code",
   "execution_count": null,
   "metadata": {},
   "outputs": [],
   "source": []
  }
 ],
 "metadata": {
  "kernelspec": {
   "display_name": "Python 3 (ipykernel)",
   "language": "python",
   "name": "python3"
  },
  "language_info": {
   "codemirror_mode": {
    "name": "ipython",
    "version": 3
   },
   "file_extension": ".py",
   "mimetype": "text/x-python",
   "name": "python",
   "nbconvert_exporter": "python",
   "pygments_lexer": "ipython3",
   "version": "3.10.11"
  }
 },
 "nbformat": 4,
 "nbformat_minor": 4
}
