{
 "cells": [
  {
   "cell_type": "markdown",
   "metadata": {},
   "source": [
    "# Q0: import dash standard libraries"
   ]
  },
  {
   "cell_type": "code",
   "execution_count": null,
   "metadata": {},
   "outputs": [],
   "source": [
    "from dash import Dash, dcc, html, Input, Output\n",
    "from jupyter_dash import JupyterDash"
   ]
  },
  {
   "cell_type": "markdown",
   "metadata": {},
   "source": [
    "# Q1: Make dash that prints \"Data Science\""
   ]
  },
  {
   "cell_type": "code",
   "execution_count": null,
   "metadata": {},
   "outputs": [],
   "source": [
    "import warnings\n",
    "warnings.filterwarnings('ignore')\n",
    "\n",
    "from jupyter_dash import JupyterDash\n",
    "from dash import html\n",
    "\n",
    "app = JupyterDash('Test')\n",
    "\n",
    "app.layout = html.Div([\n",
    "    html.H1('Data Science')\n",
    "])\n",
    "\n",
    "if __name__ == '__main__':\n",
    "    app.run_server()"
   ]
  },
  {
   "cell_type": "markdown",
   "metadata": {},
   "source": [
    "# Q2: Make dash that takes name input and outpt \"Welcome to Data Science dashboard {name}\""
   ]
  },
  {
   "cell_type": "code",
   "execution_count": null,
   "metadata": {},
   "outputs": [],
   "source": [
    "from dash import Dash, dcc, html, Input, Output, callback\n",
    "\n",
    "app = Dash(__name__)\n",
    "\n",
    "ALLOWED_TYPES = (\n",
    "    \"text\",)\n",
    "\n",
    "\n",
    "app.layout = html.Div(\n",
    "    [\n",
    "        \n",
    "        dcc.Input(\n",
    "            id=\"input_{}\".format(_),\n",
    "            type=_,\n",
    "            placeholder=\"input type {}\".format(_),\n",
    "        )\n",
    "        for _ in ALLOWED_TYPES\n",
    "    ]\n",
    "    + [html.H5(\"Welcome to Data Science dashboard\")]\n",
    "    + [html.Div(id=\"out-all-types\")]\n",
    ")\n",
    "\n",
    "\n",
    "@callback(\n",
    "    Output(\"out-all-types\", \"children\"),\n",
    "    [Input(\"input_{}\".format(_), \"value\") for _ in ALLOWED_TYPES],\n",
    ")\n",
    "def cb_render(*vals):\n",
    "    return \" | \".join((str(val) for val in vals if val))\n",
    "if __name__ == '__main__':\n",
    "    app.run_server()"
   ]
  },
  {
   "cell_type": "markdown",
   "metadata": {},
   "source": [
    "# Q3: Make Plotly-Dash that takes two inputs (numbers) and output 3 numbers x, y , z= x+y\n",
    "- hint: use html.Div, dcc.Input(type='number')"
   ]
  },
  {
   "cell_type": "code",
   "execution_count": null,
   "metadata": {},
   "outputs": [],
   "source": [
    "from dash import Dash, dcc, html, Input, Output, callback\n",
    "\n",
    "app = Dash(__name__)\n",
    "\n",
    "ALLOWED_TYPES = (\n",
    "    \"number\",)\n",
    "\n",
    "\n",
    "app.layout = html.Div(\n",
    "    [\n",
    "        \n",
    "        dcc.Input(\n",
    "            id=\"xinput_{}\".format(_),\n",
    "            type=_,\n",
    "            placeholder=\"input type {}\".format(_),\n",
    "        )\n",
    "        for _ in ALLOWED_TYPES+\n",
    "        dcc.Input(\n",
    "            id=\"yinput_{}\".format(_),\n",
    "            type=_,\n",
    "            placeholder=\"input type {}\".format(_),\n",
    "        )\n",
    "        for _ in ALLOWED_TYPES\n",
    "    ]\n",
    "    + [html.Div(id=\"out-all-types\")]\n",
    ")\n",
    "\n",
    "\n",
    "@callback(\n",
    "    Output(\"out-all-types\", \"children\"),\n",
    "    [Input(\"xinput_{}\".format(_), \"value\") for _ in ALLOWED_TYPES],\n",
    "    [Input(\"yinput_{}\".format(_), \"value\") for _ in ALLOWED_TYPES],\n",
    ")\n",
    "def cb_render(x):\n",
    "    z=x+y\n",
    "    return z\n",
    "if __name__ == '__main__':\n",
    "    app.run_server()"
   ]
  },
  {
   "cell_type": "code",
   "execution_count": null,
   "metadata": {},
   "outputs": [],
   "source": [
    "from dash import Dash, dcc, html, Input, Output, callback\n",
    "\n",
    "app = Dash(__name__)\n",
    "\n",
    "ALLOWED_TYPES = (\"number\",)\n",
    "\n",
    "app.layout = html.Div(\n",
    "    [\n",
    "        dcc.Input(\n",
    "            id=\"xinput_{}\".format(_),\n",
    "            type=_,\n",
    "            placeholder=\"input type {}\".format(_),\n",
    "        )\n",
    "        for _ in ALLOWED_TYPES\n",
    "    ]\n",
    "    + [\n",
    "        dcc.Input(\n",
    "            id=\"yinput_{}\".format(_),\n",
    "            type=_,\n",
    "            placeholder=\"input type {}\".format(_),\n",
    "        )\n",
    "        for _ in ALLOWED_TYPES\n",
    "    ]\n",
    "    + [html.Div(id=\"out-all-types\")]\n",
    ")\n",
    "\n",
    "\n",
    "@app.callback(\n",
    "    Output(\"out-all-types\", \"children\"),\n",
    "    [Input(\"xinput_{}\".format(_), \"value\") for _ in ALLOWED_TYPES]\n",
    "    + [Input(\"yinput_{}\".format(_), \"value\") for _ in ALLOWED_TYPES],\n",
    ")\n",
    "def cb_render(x, y):\n",
    "    z = x + y\n",
    "    return z\n",
    "\n",
    "\n",
    "if __name__ == \"__main__\":\n",
    "    app.run_server()"
   ]
  },
  {
   "cell_type": "markdown",
   "metadata": {},
   "source": [
    "# Q4.1: Make JubyterDash with Rangeslider from 1-15 with 6 option"
   ]
  },
  {
   "cell_type": "code",
   "execution_count": null,
   "metadata": {},
   "outputs": [],
   "source": [
    "import warnings\n",
    "warnings.filterwarnings('ignore')\n",
    "\n",
    "from jupyter_dash import JupyterDash\n",
    "from dash import html\n",
    "import dash_core_components as dcc\n",
    "\n",
    "app = JupyterDash('Test')\n",
    "\n",
    "app.layout = html.Div([\n",
    "    \n",
    "    dcc.RangeSlider(1, 15, 3, value=[7, 7], id='my-range-slider'),\n",
    "    \n",
    "    html.Div(id='output-container-range-slider')\n",
    "])\n",
    "\n",
    "if __name__ == '__main__':\n",
    "    app.run_server()"
   ]
  },
  {
   "cell_type": "markdown",
   "metadata": {},
   "source": [
    "# Q4.2: add to the previous dash: Label, set default value on rangeslider as 7-10"
   ]
  },
  {
   "cell_type": "code",
   "execution_count": null,
   "metadata": {},
   "outputs": [],
   "source": [
    "import warnings\n",
    "warnings.filterwarnings('ignore')\n",
    "\n",
    "from jupyter_dash import JupyterDash\n",
    "from dash import html\n",
    "import dash_core_components as dcc\n",
    "\n",
    "app = JupyterDash('Test')\n",
    "\n",
    "app.layout = html.Div([\n",
    "    html.Label('my label'),\n",
    "    \n",
    "    dcc.RangeSlider(1, 15, 3, value=[7, 10], id='my-range-slider'),\n",
    "    \n",
    "    html.Div(id='output-container-range-slider')\n",
    "])\n",
    "\n",
    "if __name__ == '__main__':\n",
    "    app.run_server()"
   ]
  },
  {
   "cell_type": "markdown",
   "metadata": {},
   "source": [
    "# Q5: Make 3 different Dcc types (Dropdown - Checkbox...) in one dash"
   ]
  },
  {
   "cell_type": "code",
   "execution_count": null,
   "metadata": {},
   "outputs": [],
   "source": [
    "from dash import Dash, dcc, html\n",
    "from dash.dependencies import Input, Output\n",
    "\n",
    "app = Dash(__name__)\n",
    "\n",
    "app.layout = html.Div(\n",
    "    [\n",
    "        dcc.Dropdown(\n",
    "            id=\"dropdown\",\n",
    "            options=[\n",
    "                {\"label\": \"Option 1\", \"value\": \"option1\"},\n",
    "                {\"label\": \"Option 2\", \"value\": \"option2\"},\n",
    "                {\"label\": \"Option 3\", \"value\": \"option3\"},\n",
    "            ],\n",
    "            placeholder=\"Select an option\",\n",
    "        ),\n",
    "        dcc.Checklist(\n",
    "            id=\"checkbox\",\n",
    "            options=[\n",
    "                {\"label\": \"Check me\", \"value\": \"check\"},\n",
    "            ],\n",
    "            labelStyle={\"display\": \"block\"},\n",
    "        ),\n",
    "        dcc.RadioItems(\n",
    "            id=\"radio\",\n",
    "            options=[\n",
    "                {\"label\": \"Radio 1\", \"value\": \"radio1\"},\n",
    "                {\"label\": \"Radio 2\", \"value\": \"radio2\"},\n",
    "            ],\n",
    "            labelStyle={\"display\": \"block\"},\n",
    "        ),\n",
    "        html.Div(id=\"output\"),\n",
    "    ]\n",
    ")\n",
    "\n",
    "\n",
    "\n",
    "\n",
    "if __name__ == \"__main__\":\n",
    "    app.run_server()"
   ]
  },
  {
   "cell_type": "markdown",
   "metadata": {},
   "source": [
    "# Q6: Make Plotly chart, then add it to a plotly_dash"
   ]
  },
  {
   "cell_type": "code",
   "execution_count": null,
   "metadata": {},
   "outputs": [],
   "source": [
    "import matplotlib.pyplot as plt\n",
    "import plotly.express as px\n",
    "from dash import Dash, dcc, html\n"
   ]
  },
  {
   "cell_type": "code",
   "execution_count": null,
   "metadata": {},
   "outputs": [],
   "source": [
    "num = [1,2,3,4,5,6,7,8,9,10]\n",
    "sqr = [1,4,9,16,25,36,42,64,89,100]"
   ]
  },
  {
   "cell_type": "code",
   "execution_count": null,
   "metadata": {},
   "outputs": [],
   "source": [
    "fig = px.line(x=num, y=sqr)\n",
    "dcc.Graph(figure=fig)\n",
    "fig.show()"
   ]
  },
  {
   "cell_type": "code",
   "execution_count": null,
   "metadata": {},
   "outputs": [],
   "source": [
    "import warnings\n",
    "warnings.filterwarnings('ignore')\n",
    "\n",
    "from jupyter_dash import JupyterDash\n",
    "from dash import html\n",
    "import dash_core_components as dcc\n",
    "\n",
    "app = JupyterDash('Test')\n",
    "\n",
    "app.layout = html.Div([\n",
    "    dcc.Graph(figure=fig),\n",
    "])\n",
    "\n",
    "if __name__ == '__main__':\n",
    "    app.run_server()"
   ]
  },
  {
   "cell_type": "markdown",
   "metadata": {},
   "source": [
    "# Q7: From our data make plotly-dash with suitble chart, and Dropdown.\n",
    "\n",
    "- Dropdown should contain at least 3 options, each one represents different column.\n",
    "- Add label to dropdown.\n",
    "- The chart data should change depending on the selected dropdown option."
   ]
  },
  {
   "cell_type": "code",
   "execution_count": null,
   "metadata": {},
   "outputs": [],
   "source": [
    "import warnings\n",
    "warnings.filterwarnings('ignore')\n",
    "\n",
    "from jupyter_dash import JupyterDash\n",
    "from dash import Dash, dcc, html, Input, Output, callback\n",
    "import dash_core_components as dcc\n",
    "import pandas as pd\n",
    "import plotly.express as px\n",
    "df = pd.read_csv(\"titanic passenger list.csv\")\n",
    "\n",
    "fig1 = px.bar(x=df[\"sex\"], y=df[\"survived\"])\n",
    "\n",
    "app = JupyterDash('Test')\n",
    "\n",
    "app.layout = html.Div([\n",
    "    dcc.Dropdown(\n",
    "            id=\"dropdown\",\n",
    "            options=[\n",
    "                {\"label\": \"male and female survivers\", \"value\": \"graph1\"},\n",
    "                {\"label\": \"the relation between pclass and surviving\", \"value\": \"graph2\"},\n",
    "                {\"label\": \"histogram for age\", \"value\": \"graph3\"},\n",
    "            ],\n",
    "            placeholder=\"Select an option\",\n",
    "            value='graph1',\n",
    "        ),\n",
    "    dcc.Graph(figure=fig1),\n",
    "])\n",
    "\n",
    "\n",
    "    \n",
    "if __name__ == '__main__':\n",
    "    app.run_server()"
   ]
  },
  {
   "cell_type": "markdown",
   "metadata": {},
   "source": [
    "# Q8: add 2 more charts to the prevoius Ploty-Dash"
   ]
  },
  {
   "cell_type": "code",
   "execution_count": null,
   "metadata": {},
   "outputs": [],
   "source": [
    "import warnings\n",
    "warnings.filterwarnings('ignore')\n",
    "\n",
    "from jupyter_dash import JupyterDash\n",
    "from dash import Dash, dcc, html, Input, Output, callback\n",
    "import dash_core_components as dcc\n",
    "import pandas as pd\n",
    "import plotly.express as px\n",
    "df = pd.read_csv(\"titanic passenger list.csv\")\n",
    "\n",
    "fig1 = px.bar(x=df[\"sex\"], y=df[\"survived\"])\n",
    "fig2 = px.bar(x=df[\"pclass\"],y=df[\"survived\"])\n",
    "fig3 = px.histogram(df[\"age\"])\n",
    "app = JupyterDash('Test')\n",
    "\n",
    "app.layout = html.Div([\n",
    "    dcc.Dropdown(\n",
    "            id=\"dropdown\",\n",
    "            options=[\n",
    "                {\"label\": \"male and female survivers\", \"value\": \"graph1\"},\n",
    "                {\"label\": \"the relation between pclass and surviving\", \"value\": \"graph2\"},\n",
    "                {\"label\": \"histogram for age\", \"value\": \"graph3\"},\n",
    "            ],\n",
    "            placeholder=\"Select an option\",\n",
    "            value='graph1',\n",
    "        ),\n",
    "    html.Div(dcc.Graph(id='graph'))\n",
    "])\n",
    "\n",
    "@app.callback(\n",
    "    Output('graph', 'figure'),\n",
    "    [Input(component_id='dropdown', component_property='value')]\n",
    ")\n",
    "def select_graph(value):\n",
    "    if value == 'graph1':\n",
    "        \n",
    "        return fig1\n",
    "    elif value == 'graph2':\n",
    "\n",
    "        return fig2\n",
    "    elif value == 'graph3':\n",
    "        return fig3\n",
    "    \n",
    "if __name__ == '__main__':\n",
    "    app.run_server()"
   ]
  },
  {
   "cell_type": "markdown",
   "metadata": {},
   "source": [
    "# Q9: Search for \"Plotly Gallery\" and fetch for a graph and use it with our data.\n",
    "\n",
    "- Note: You need to put the resourse addres of fetched your grapth."
   ]
  },
  {
   "cell_type": "markdown",
   "metadata": {},
   "source": [
    "# Challenge 1.1: Create Plotly dash with two charts depends on different columns of the data\n",
    "- First Chart : Pie\n",
    "- Secound Chart: is by your Choice ( Not Pie )"
   ]
  },
  {
   "cell_type": "code",
   "execution_count": 1,
   "metadata": {},
   "outputs": [
    {
     "data": {
      "text/html": [
       "\n",
       "        <iframe\n",
       "            width=\"100%\"\n",
       "            height=\"650\"\n",
       "            src=\"http://127.0.0.1:8050/\"\n",
       "            frameborder=\"0\"\n",
       "            allowfullscreen\n",
       "            \n",
       "        ></iframe>\n",
       "        "
      ],
      "text/plain": [
       "<IPython.lib.display.IFrame at 0x1f5faa90>"
      ]
     },
     "metadata": {},
     "output_type": "display_data"
    },
    {
     "name": "stdout",
     "output_type": "stream",
     "text": [
      "Dash app running on http://127.0.0.1:8050/\n"
     ]
    }
   ],
   "source": [
    "import warnings\n",
    "warnings.filterwarnings('ignore')\n",
    "\n",
    "from jupyter_dash import JupyterDash\n",
    "from dash import Dash, dcc, html, Input, Output, callback\n",
    "import dash_core_components as dcc\n",
    "import pandas as pd\n",
    "import plotly.express as px\n",
    "df = pd.read_csv(\"titanic passenger list.csv\")\n",
    "fig1 = px.pie(values=df[\"survived\"],names=df[\"sex\"])\n",
    "fig2 = px.scatter_3d(x=df[\"age\"],y=df[\"sibsp\"],z=df[\"body\"])\n",
    "app = JupyterDash('Test')\n",
    "\n",
    "app.layout = html.Div([\n",
    "    dcc.Graph(figure=fig1),\n",
    "    dcc.Graph(figure=fig2),\n",
    "])\n",
    "\n",
    "if __name__ == '__main__':\n",
    "    app.run_server()"
   ]
  },
  {
   "cell_type": "markdown",
   "metadata": {},
   "source": [
    "# Challenge 1.2: Make Hovering over a slice of the pie changes the data for the second chart depending on what the slice is."
   ]
  },
  {
   "cell_type": "code",
   "execution_count": null,
   "metadata": {},
   "outputs": [],
   "source": []
  }
 ],
 "metadata": {
  "kernelspec": {
   "display_name": "Python 3 (ipykernel)",
   "language": "python",
   "name": "python3"
  },
  "language_info": {
   "codemirror_mode": {
    "name": "ipython",
    "version": 3
   },
   "file_extension": ".py",
   "mimetype": "text/x-python",
   "name": "python",
   "nbconvert_exporter": "python",
   "pygments_lexer": "ipython3",
   "version": "3.9.12"
  }
 },
 "nbformat": 4,
 "nbformat_minor": 2
}
