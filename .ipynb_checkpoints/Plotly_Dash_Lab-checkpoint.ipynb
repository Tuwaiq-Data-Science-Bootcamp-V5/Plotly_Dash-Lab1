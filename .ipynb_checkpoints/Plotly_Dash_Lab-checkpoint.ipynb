{
 "cells": [
  {
   "cell_type": "markdown",
   "metadata": {},
   "source": [
    "# Q0: import dash standard libraries"
   ]
  },
  {
   "cell_type": "code",
   "execution_count": null,
   "metadata": {},
   "outputs": [],
   "source": [
    "from dash import Dash, dcc, html, Input, Output\n",
    "from jupyter_dash import JupyterDash"
   ]
  },
  {
   "cell_type": "code",
   "execution_count": null,
   "metadata": {},
   "outputs": [],
   "source": [
    "app = JupyterDash()"
   ]
  },
  {
   "cell_type": "markdown",
   "metadata": {},
   "source": [
    "# Q1: Make dash that prints \"Data Science\""
   ]
  },
  {
   "cell_type": "code",
   "execution_count": null,
   "metadata": {},
   "outputs": [],
   "source": [
    "app.layout = html.H1('Data Science')\n",
    "app.run_server()"
   ]
  },
  {
   "cell_type": "markdown",
   "metadata": {},
   "source": [
    "# Q2: Make dash that takes name input and outpt \"Welcome to Data Science dashboard {name}\""
   ]
  },
  {
   "cell_type": "code",
   "execution_count": null,
   "metadata": {},
   "outputs": [],
   "source": [
    "app.layout = html.Div([\n",
    "    dcc.Input(id = 'name-input', type='text', placeholder= 'Enter your name'),\n",
    "    html.Button('Submit', id='submit-button', n_clicks=0),\n",
    "    html.H1(id = 'output-container')\n",
    "])\n",
    "\n",
    "@app.callback(\n",
    "    Output('output-container','children'),\n",
    "    Input('submit-button','n_clicks'),\n",
    "    State('name-input','value')\n",
    ")\n",
    "\n",
    "def output(n_clicks, name):\n",
    "    if n_clicks>0:\n",
    "        return f\"Welcome to Data Science dashboard, {name}\""
   ]
  },
  {
   "cell_type": "markdown",
   "metadata": {},
   "source": [
    "# Q3: Make Plotly-Dash that takes two inputs (numbers) and output 3 numbers x, y , z= x+y\n",
    "- hint: use html.Div, dcc.Input(type='number')"
   ]
  },
  {
   "cell_type": "code",
   "execution_count": null,
   "metadata": {},
   "outputs": [],
   "source": [
    "app.layout = html.Div([\n",
    "    dcc.Input(id='input_No1', type='number', placeholder='Enter the first number', value=0),\n",
    "    dcc.Input(id='input_No2', type='number', placeholder='Enter the second number', value=0),\n",
    "    html.Button('Calculate Sum', id='sum', n_clicks=0),\n",
    "    html.Div(id='output-result', style={'fontSize': 30, 'textAlign': 'center'}),\n",
    "])\n",
    "\n",
    "@app.callback(\n",
    "    Output('output-result', 'children',allow_duplicate=True),\n",
    "    [Input('sum', 'n_clicks')],\n",
    "    [State('input_No1', 'value'),\n",
    "     State('input_No2', 'value')],\n",
    "        prevent_initial_call=True\n",
    ")\n",
    "\n",
    "def sum(n_clicks,num1,num2):\n",
    "    if n_clicks>0:\n",
    "        try:\n",
    "            result=num1+num2\n",
    "            return 'x={} ,y={}, {}+{}={}'.format(num1,num2,num1,num2,result)\n",
    "        except:\n",
    "            return 'Error'"
   ]
  },
  {
   "cell_type": "code",
   "execution_count": null,
   "metadata": {},
   "outputs": [],
   "source": [
    "app.run_server()"
   ]
  },
  {
   "cell_type": "markdown",
   "metadata": {},
   "source": [
    "# Q4.1: Make JubyterDash with Rangeslider from 1-15 with 6 option"
   ]
  },
  {
   "cell_type": "code",
   "execution_count": null,
   "metadata": {},
   "outputs": [],
   "source": [
    "external_stylesheets = ['https://codepen.io/chriddyp/pen/bWLwgP.css']\n",
    "\n",
    "app = Dash('Mhsin', external_stylesheets=external_stylesheets)\n",
    "app.layout = html.Div([\n",
    "    dcc.RangeSlider(0, 15,  marks={\n",
    "        0: '1',\n",
    "        3: '3',\n",
    "        5: '5',\n",
    "        9: '9',\n",
    "        12: '12',\n",
    "        15: '15'\n",
    "    },value=[3,3])\n",
    "])\n",
    "app.run_server()"
   ]
  },
  {
   "cell_type": "markdown",
   "metadata": {},
   "source": [
    "# Q4.2: add to the previous dash: Label, set default value on rangeslider as 7-10"
   ]
  },
  {
   "cell_type": "code",
   "execution_count": null,
   "metadata": {},
   "outputs": [],
   "source": [
    "external_stylesheets = ['https://codepen.io/chriddyp/pen/bWLwgP.css']\n",
    "\n",
    "app = Dash('Mhsin', external_stylesheets=external_stylesheets)\n",
    "app.layout = html.Div([\n",
    "    dcc.RangeSlider(0, 15,  marks={\n",
    "        0: '1th',\n",
    "        3: '3th',\n",
    "        5: '5th',\n",
    "        7: '7th',\n",
    "        10: '10th',\n",
    "        15: '15th'\n",
    "    },value=[7,10])\n",
    "])\n",
    "\n",
    "app.run_server(port=288)"
   ]
  },
  {
   "cell_type": "markdown",
   "metadata": {},
   "source": [
    "# Q5: Make 3 different Dcc types (Dropdown - Checkbox...) in one dash"
   ]
  },
  {
   "cell_type": "code",
   "execution_count": null,
   "metadata": {},
   "outputs": [],
   "source": [
    "external_stylesheets = ['https://codepen.io/chriddyp/pen/bWLwgP.css']\n",
    "\n",
    "app = Dash('Mhsin', external_stylesheets=external_stylesheets)\n",
    "app.layout = html.Div([\n",
    "    html.H1(\"Dropdown, Checkbox, RadioItems\"),\n",
    "    dcc.Dropdown(\n",
    "        options=[\n",
    "            {'label': 'Riyadh', 'value': 'option1'},\n",
    "            {'label': 'Abha', 'value': 'option2'},\n",
    "            {'label': 'Jeddah', 'value': 'option3'}\n",
    "        ],\n",
    "        value='option1'\n",
    "    ),\n",
    "    \n",
    "    dcc.Checklist(\n",
    "        options=[\n",
    "            {'label': 'Data Science', 'value': 'item1'},\n",
    "            {'label': 'AI', 'value': 'item2'},\n",
    "            {'label': 'Machine Learning', 'value': 'item3'}\n",
    "        ],\n",
    "        value=['item1']\n",
    "    ),\n",
    "    \n",
    "    dcc.RadioItems(\n",
    "        options=[\n",
    "            {'label': 'KSA', 'value': 'choice_a'},\n",
    "            {'label': 'USA', 'value': 'choice_b'},\n",
    "            {'label': 'UAE', 'value': 'choice_c'}\n",
    "        ],\n",
    "        value='choice_a'\n",
    "    )\n",
    "])\n",
    "\n",
    "app.run_server(port=288)"
   ]
  },
  {
   "cell_type": "markdown",
   "metadata": {},
   "source": [
    "# Q6: Make Plotly chart, then add it to a plotly_dash"
   ]
  },
  {
   "cell_type": "code",
   "execution_count": null,
   "metadata": {},
   "outputs": [],
   "source": [
    "import plotly.express as px"
   ]
  },
  {
   "cell_type": "code",
   "execution_count": null,
   "metadata": {},
   "outputs": [],
   "source": [
    "label = ['A','B','C']"
   ]
  },
  {
   "cell_type": "code",
   "execution_count": null,
   "metadata": {},
   "outputs": [],
   "source": [
    "Value = [6,10,15]"
   ]
  },
  {
   "cell_type": "code",
   "execution_count": null,
   "metadata": {},
   "outputs": [],
   "source": [
    "fig = px.bar(x=label,y=Value)\n",
    "fig.update_xaxes(title_text='Categories')\n",
    "fig.update_yaxes(title_text='Values')\n",
    "fig.show()\n",
    "\n",
    "app.layout = html.Div([\n",
    "    html.H1(\"Bar Plot Dashboard\"),\n",
    "    dcc.Graph(\n",
    "        id='bar-plot',\n",
    "        figure=fig \n",
    "    )\n",
    "])\n",
    "\n",
    "app.run_server(port = 288)"
   ]
  },
  {
   "cell_type": "markdown",
   "metadata": {},
   "source": [
    "# Q7: From our data make plotly-dash with suitble chart, and Dropdown.\n",
    "\n",
    "- Dropdown should contain at least 3 options, each one represents different column.\n",
    "- Add label to dropdown.\n",
    "- The chart data should change depending on the selected dropdown option."
   ]
  },
  {
   "cell_type": "code",
   "execution_count": null,
   "metadata": {},
   "outputs": [],
   "source": [
    "import pandas as pd\n",
    "df = pd.read_csv(\"titanic passenger list.csv\")"
   ]
  },
  {
   "cell_type": "code",
   "execution_count": null,
   "metadata": {},
   "outputs": [],
   "source": [
    "df.head()"
   ]
  },
  {
   "cell_type": "code",
   "execution_count": null,
   "metadata": {},
   "outputs": [],
   "source": [
    "import plotly.express as px\n",
    "app.layout = html.Div([\n",
    "    html.H1(\"Bar Chart with Dropdown\"),\n",
    "    \n",
    "    dcc.Dropdown(\n",
    "        id='dropdown',\n",
    "        options=[\n",
    "            {'label': 'sex', 'value': 'sex'},\n",
    "            {'label': 'survived', 'value': 'survived'},\n",
    "            {'label': 'embarked', 'value': 'embarked'}\n",
    "        ],\n",
    "        value='sex',  \n",
    "        clearable=False\n",
    "    ),\n",
    "    \n",
    "    dcc.Graph(id='bar-chart')\n",
    "])\n",
    "\n",
    "\n",
    "@app.callback(\n",
    "    Output('bar-chart', 'figure'),\n",
    "    [Input('dropdown', 'value')]\n",
    ")\n",
    "\n",
    "\n",
    "def update_chart(column):\n",
    "    fig = px.bar(df, x=column, y='age')\n",
    "    fig.update_xaxes(title_text=column)\n",
    "    fig.update_yaxes(title_text='age')\n",
    "    return fig\n",
    "\n",
    "app.run_server(port = 288)"
   ]
  },
  {
   "cell_type": "markdown",
   "metadata": {},
   "source": [
    "# Q8: add 2 more charts to the prevoius Ploty-Dash"
   ]
  },
  {
   "cell_type": "code",
   "execution_count": null,
   "metadata": {},
   "outputs": [],
   "source": [
    "import plotly.express as px\n",
    "app.layout = html.Div([\n",
    "    html.H1(\"Multipe charts with Ploty-Dash\"),\n",
    "    \n",
    "    ##First chart\n",
    "    html.H3('Bar Chart')\n",
    "    ,\n",
    "    dcc.Dropdown(\n",
    "        id='dropdown',\n",
    "        options=[\n",
    "            {'label': 'sex', 'value': 'sex'},\n",
    "            {'label': 'survived', 'value': 'survived'},\n",
    "            {'label': 'embarked', 'value': 'embarked'}\n",
    "        ],\n",
    "        value='sex', \n",
    "        clearable=False\n",
    "    ),\n",
    "    \n",
    "    dcc.Graph(id='bar-chart')\n",
    "    \n",
    "    \n",
    "    ,\n",
    "    ##Second chart\n",
    "    html.H3('Box Chart'),\n",
    "        dcc.Dropdown(\n",
    "        id='dropdown-2',\n",
    "        options=[\n",
    "            {'label': 'ticket', 'value': 'ticket'},\n",
    "            {'label': 'age', 'value': 'age'},\n",
    "            {'label': 'fare', 'value': 'fare'}\n",
    "        ],\n",
    "        value='ticket',\n",
    "        clearable=False\n",
    "    ),\n",
    "        dcc.Graph(id='box-chart'),\n",
    "    \n",
    "    ##Third chart\n",
    "    html.H3('Histogram Chart'),\n",
    "        dcc.Dropdown(\n",
    "        id='dropdown-3',\n",
    "        options=[\n",
    "            {'label': 'ticket', 'value': 'ticket'},\n",
    "            {'label': 'age', 'value': 'age'},\n",
    "            {'label': 'fare', 'value': 'fare'}\n",
    "        ],\n",
    "        value='ticket',  \n",
    "        clearable=False\n",
    "    ),\n",
    "        dcc.Graph(id='histo-chart'),\n",
    "    \n",
    "])\n",
    "\n",
    "\n",
    "@app.callback(\n",
    "    Output('bar-chart', 'figure'),\n",
    "    [Input('dropdown', 'value')]\n",
    ")\n",
    "\n",
    "\n",
    "def update_chart(column):\n",
    "    fig = px.bar(df, x=column, y='age')\n",
    "    fig.update_xaxes(title_text=column)\n",
    "    fig.update_yaxes(title_text='age')\n",
    "    return fig\n",
    "\n",
    "\n",
    "@app.callback(\n",
    "    Output('box-chart', 'figure'),\n",
    "    [Input('dropdown-2', 'value')]\n",
    ")\n",
    "\n",
    "\n",
    "def update_chart(column):\n",
    "    fig = px.box(df,y=column)\n",
    "    fig.update_xaxes(title_text=column)\n",
    "    fig.update_yaxes(title_text='distribution')\n",
    "    return fig\n",
    "\n",
    "\n",
    "@app.callback(\n",
    "    Output('histo-chart', 'figure'),\n",
    "    [Input('dropdown-3', 'value')]\n",
    ")\n",
    "\n",
    "\n",
    "def update_chart(column):\n",
    "    fig = px.histogram(df,x=column)\n",
    "    fig.update_xaxes(title_text=column)\n",
    "    fig.update_yaxes(title_text='distribution')\n",
    "    return fig\n",
    "\n",
    "app.run_server(port = 288)"
   ]
  },
  {
   "cell_type": "markdown",
   "metadata": {},
   "source": [
    "# Q9: Search for \"Plotly Gallery\" and fetch for a graph and use it with our data.\n",
    "\n",
    "- Note: You need to put the resourse addres of fetched your grapth."
   ]
  },
  {
   "cell_type": "code",
   "execution_count": null,
   "metadata": {},
   "outputs": [],
   "source": [
    "import plotly.express as px\n",
    "df = px.data.gapminder()\n",
    "\n",
    "\n",
    "fig = px.scatter(df.query(\"year > 2000 & year < 2010\"), x=\"gdpPercap\", y=\"lifeExp\",  size=\"pop\", color=\"continent\",\n",
    "                 hover_name=\"country\", log_x=True, size_max=60)\n",
    "\n",
    "\n",
    "app.layout = html.Div([\n",
    "    html.H1('GDP Per Cap VS Life Expectancy'),\n",
    "        dcc.Graph(\n",
    "        id='bubble-plot',\n",
    "        figure=fig \n",
    "    )\n",
    "    \n",
    "                    ])\n",
    "    \n",
    "app.run_server(port=288)"
   ]
  },
  {
   "cell_type": "markdown",
   "metadata": {},
   "source": [
    "# Challenge 1.1: Create Plotly dash with two charts depends on different columns of the data\n",
    "- First Chart : Pie\n",
    "- Secound Chart: is by your Choice ( Not Pie )"
   ]
  },
  {
   "cell_type": "code",
   "execution_count": null,
   "metadata": {},
   "outputs": [],
   "source": []
  },
  {
   "cell_type": "markdown",
   "metadata": {},
   "source": [
    "# Challenge 1.2: Make Hovering over a slice of the pie changes the data for the second chart depending on what the slice is."
   ]
  },
  {
   "cell_type": "code",
   "execution_count": null,
   "metadata": {},
   "outputs": [],
   "source": []
  }
 ],
 "metadata": {
  "kernelspec": {
   "display_name": "Python 3 (ipykernel)",
   "language": "python",
   "name": "python3"
  },
  "language_info": {
   "codemirror_mode": {
    "name": "ipython",
    "version": 3
   },
   "file_extension": ".py",
   "mimetype": "text/x-python",
   "name": "python",
   "nbconvert_exporter": "python",
   "pygments_lexer": "ipython3",
   "version": "3.9.13"
  }
 },
 "nbformat": 4,
 "nbformat_minor": 4
}
